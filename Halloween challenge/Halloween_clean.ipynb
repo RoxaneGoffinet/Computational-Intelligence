{
 "cells": [
  {
   "cell_type": "markdown",
   "id": "185f9931-b384-4fdc-a5b2-eea785428bb8",
   "metadata": {},
   "source": [
    "Copyright **`(c)`** 2023 Giovanni Squillero `<giovanni.squillero@polito.it>`  \n",
    "[`https://github.com/squillero/computational-intelligence`](https://github.com/squillero/computational-intelligence)  \n",
    "Free for personal or classroom use; see [`LICENSE.md`](https://github.com/squillero/computational-intelligence/blob/master/LICENSE.md) for details.  "
   ]
  },
  {
   "cell_type": "code",
   "execution_count": 2,
   "id": "3ffe7245-e849-41d0-9698-5f0e0b83fee9",
   "metadata": {},
   "outputs": [],
   "source": [
    "from itertools import product\n",
    "from random import random, randint, shuffle, seed, choice\n",
    "import numpy as np\n",
    "from scipy import sparse\n",
    "import logging\n",
    "import platform\n",
    "from collections import Counter\n",
    "from scipy.sparse import linalg, vstack, hstack, identity, eye\n",
    "from functools import reduce\n",
    "import copy"
   ]
  },
  {
   "cell_type": "code",
   "execution_count": 3,
   "id": "6f03bd67-78a0-4d72-95b7-77a918727b91",
   "metadata": {},
   "outputs": [],
   "source": [
    "def make_set_covering_problem(num_points, num_sets, density):\n",
    "    \"\"\"Returns a sparse array where rows are sets and columns are the covered items\"\"\"\n",
    "    seed(num_points*2654435761+num_sets+density)\n",
    "    sets = sparse.lil_array((num_sets, num_points), dtype=bool)\n",
    "    for s, p in product(range(num_sets), range(num_points)):\n",
    "        if random() < density:\n",
    "            sets[s, p] = True\n",
    "    for p in range(num_points):\n",
    "        sets[randint(0, num_sets-1), p] = True\n",
    "    return sets"
   ]
  },
  {
   "cell_type": "markdown",
   "id": "82b0be37-21d9-492d-9a1d-cf0cdf0ddd76",
   "metadata": {},
   "source": [
    "# Halloween Challenge\n",
    "\n",
    "Find the best solution with the fewest calls to the fitness functions for:\n",
    "\n",
    "* `num_points = [100, 1_000, 5_000]`\n",
    "* `num_sets = num_points`\n",
    "* `density = [.3, .7]` "
   ]
  },
  {
   "cell_type": "code",
   "execution_count": 4,
   "id": "221ffdba-5d3d-48cc-bd08-45ccc9366ea6",
   "metadata": {},
   "outputs": [
    {
     "name": "stdout",
     "output_type": "stream",
     "text": [
      "Element at row=42 and column=42: False\n"
     ]
    }
   ],
   "source": [
    "x = make_set_covering_problem(1000, 1000, .3)\n",
    "print(\"Element at row=42 and column=42:\", x[42, 42])"
   ]
  },
  {
   "cell_type": "code",
   "execution_count": 11,
   "id": "8145ceb7",
   "metadata": {},
   "outputs": [],
   "source": [
    "num_points = [100, 1_000, 5_000]\n",
    "num_sets = num_points\n",
    "density = [0.3, 0.7]"
   ]
  },
  {
   "cell_type": "markdown",
   "id": "6fd97182",
   "metadata": {},
   "source": [
    "## Hill Climbing"
   ]
  },
  {
   "cell_type": "code",
   "execution_count": 5,
   "id": "4b60bd99",
   "metadata": {},
   "outputs": [],
   "source": [
    "def goal_check(x,  num_pts):\n",
    "    sol = [False for _ in range(num_pts)]\n",
    "    for s in range(num_pts):\n",
    "        for p in range(num_pts):\n",
    "            sol[p] = sol[p] or x[s, p]\n",
    "    \n",
    "    return np.all(sol)\n",
    "\n",
    "assert goal_check(x, 1000)"
   ]
  },
  {
   "cell_type": "code",
   "execution_count": 6,
   "id": "52b853e9",
   "metadata": {},
   "outputs": [],
   "source": [
    "def fitness(sets, state):\n",
    "    cost = np.sum(state)\n",
    "    if np.array(state).any():\n",
    "        valid = sets[np.array(state), :].max(axis=0).sum()\n",
    "    else:\n",
    "        valid = 0\n",
    "    return valid, -cost\n"
   ]
  },
  {
   "cell_type": "code",
   "execution_count": 7,
   "id": "f773bb72",
   "metadata": {},
   "outputs": [],
   "source": [
    "def tweak(state, size):\n",
    "    new_state = state.copy()\n",
    "    index = randint(0, size - 1)\n",
    "    new_state[index] = not new_state[index]\n",
    "    return new_state"
   ]
  },
  {
   "cell_type": "code",
   "execution_count": 8,
   "id": "85024380",
   "metadata": {},
   "outputs": [],
   "source": [
    "def hill_climbing(problem_size, num_sets, density, nb_steps = 100000):\n",
    "    sets = make_set_covering_problem(num_sets, num_sets, .3).toarray()\n",
    "    initial_state = [False for _ in range(num_sets)]\n",
    "    current_state = initial_state\n",
    "    fit = fitness(sets, initial_state)\n",
    "    print(\" The fitness of the initial state is : \", fit)\n",
    "    counter  = 0\n",
    "    for step in range(nb_steps):\n",
    "        new_state = tweak(current_state, problem_size)\n",
    "        # if step % 50 == 0 : print(new_state)\n",
    "        counter += 1  #maybe it should be two\n",
    "        new_fit = fitness(sets, new_state)\n",
    "        if fit <= new_fit:\n",
    "            current_state = new_state\n",
    "            fit = new_fit\n",
    "            # print(fitness(sets, current_state))\n",
    "    return fitness(sets, current_state), counter"
   ]
  },
  {
   "cell_type": "code",
   "execution_count": 9,
   "id": "e54fbcdd",
   "metadata": {},
   "outputs": [
    {
     "name": "stdout",
     "output_type": "stream",
     "text": [
      " The fitness of the initial state is :  (0, 0)\n",
      " The fitness at the end of hill climbing is -15 and they were 100000 call to the fitness function.\n"
     ]
    }
   ],
   "source": [
    "res, count = hill_climbing(1000, 1000, 0.6)\n",
    "\n",
    "print(\" The fitness at the end of hill climbing is {} and they were {} call to the fitness function.\".format(res[1], count))"
   ]
  },
  {
   "cell_type": "code",
   "execution_count": 14,
   "id": "8b148cd1",
   "metadata": {},
   "outputs": [
    {
     "name": "stdout",
     "output_type": "stream",
     "text": [
      " The fitness of the initial state is :  (0, 0)\n",
      " The fitness at the end of hill climbing for 100 points and a  0.3 density is -8 and they were 100000 call to the fitness function.\n",
      " The fitness of the initial state is :  (0, 0)\n",
      " The fitness at the end of hill climbing for 100 points and a  0.7 density is -8 and they were 100000 call to the fitness function.\n",
      " The fitness of the initial state is :  (0, 0)\n",
      " The fitness at the end of hill climbing for 1000 points and a  0.3 density is -15 and they were 100000 call to the fitness function.\n",
      " The fitness of the initial state is :  (0, 0)\n",
      " The fitness at the end of hill climbing for 1000 points and a  0.7 density is -15 and they were 100000 call to the fitness function.\n",
      " The fitness of the initial state is :  (0, 0)\n",
      " The fitness at the end of hill climbing for 5000 points and a  0.3 density is -21 and they were 100000 call to the fitness function.\n",
      " The fitness of the initial state is :  (0, 0)\n"
     ]
    }
   ],
   "source": [
    "res_list = []\n",
    "for nb_pts in num_points:\n",
    "    for dst in density : \n",
    "        res, count = hill_climbing(nb_pts, nb_pts, dst)\n",
    "        print(\" The fitness at the end of hill climbing for {} points and a  {} density is {} and they were {} call to the fitness function.\".format(nb_pts, dst, res[1], count))\n",
    "        res_list.append([nb_pts, dst, res[1], count])\n",
    "\n",
    "res_list\n"
   ]
  },
  {
   "cell_type": "markdown",
   "id": "4a1dc1cb",
   "metadata": {},
   "source": [
    "## Simulated annealing"
   ]
  }
 ],
 "metadata": {
  "kernelspec": {
   "display_name": "Python 3 (ipykernel)",
   "language": "python",
   "name": "python3"
  },
  "language_info": {
   "codemirror_mode": {
    "name": "ipython",
    "version": 3
   },
   "file_extension": ".py",
   "mimetype": "text/x-python",
   "name": "python",
   "nbconvert_exporter": "python",
   "pygments_lexer": "ipython3",
   "version": "3.11.5"
  }
 },
 "nbformat": 4,
 "nbformat_minor": 5
}
