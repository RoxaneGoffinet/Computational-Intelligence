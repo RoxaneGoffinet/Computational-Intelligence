{
 "cells": [
  {
   "cell_type": "markdown",
   "id": "185f9931-b384-4fdc-a5b2-eea785428bb8",
   "metadata": {},
   "source": [
    "Copyright **`(c)`** 2023 Giovanni Squillero `<giovanni.squillero@polito.it>`  \n",
    "[`https://github.com/squillero/computational-intelligence`](https://github.com/squillero/computational-intelligence)  \n",
    "Free for personal or classroom use; see [`LICENSE.md`](https://github.com/squillero/computational-intelligence/blob/master/LICENSE.md) for details.  "
   ]
  },
  {
   "cell_type": "code",
   "execution_count": 24,
   "id": "3ffe7245-e849-41d0-9698-5f0e0b83fee9",
   "metadata": {},
   "outputs": [],
   "source": [
    "from itertools import product\n",
    "from random import random, randint, shuffle, seed, choice\n",
    "import numpy as np\n",
    "from scipy import sparse\n",
    "import logging\n",
    "import platform\n",
    "from collections import Counter\n",
    "from scipy.sparse import linalg, vstack, hstack, identity, eye\n",
    "from functools import reduce\n",
    "import copy"
   ]
  },
  {
   "cell_type": "code",
   "execution_count": 2,
   "id": "6f03bd67-78a0-4d72-95b7-77a918727b91",
   "metadata": {},
   "outputs": [],
   "source": [
    "def make_set_covering_problem(num_points, num_sets, density):\n",
    "    \"\"\"Returns a sparse array where rows are sets and columns are the covered items\"\"\"\n",
    "    seed(num_points*2654435761+num_sets+density)\n",
    "    sets = sparse.lil_array((num_sets, num_points), dtype=bool)\n",
    "    for s, p in product(range(num_sets), range(num_points)):\n",
    "        if random() < density:\n",
    "            sets[s, p] = True\n",
    "    for p in range(num_points):\n",
    "        sets[randint(0, num_sets-1), p] = True\n",
    "    return sets"
   ]
  },
  {
   "cell_type": "markdown",
   "id": "82b0be37-21d9-492d-9a1d-cf0cdf0ddd76",
   "metadata": {},
   "source": [
    "# Halloween Challenge\n",
    "\n",
    "Find the best solution with the fewest calls to the fitness functions for:\n",
    "\n",
    "* `num_points = [100, 1_000, 5_000]`\n",
    "* `num_sets = num_points`\n",
    "* `density = [.3, .7]` "
   ]
  },
  {
   "cell_type": "code",
   "execution_count": 3,
   "id": "221ffdba-5d3d-48cc-bd08-45ccc9366ea6",
   "metadata": {},
   "outputs": [
    {
     "name": "stdout",
     "output_type": "stream",
     "text": [
      "Element at row=42 and column=42: False\n"
     ]
    }
   ],
   "source": [
    "x = make_set_covering_problem(1000, 1000, .3)\n",
    "print(\"Element at row=42 and column=42:\", x[42, 42])"
   ]
  },
  {
   "cell_type": "code",
   "execution_count": 4,
   "id": "6912e8bd",
   "metadata": {},
   "outputs": [],
   "source": [
    "SETS = x.toarray()"
   ]
  },
  {
   "cell_type": "code",
   "execution_count": 5,
   "id": "8145ceb7",
   "metadata": {},
   "outputs": [],
   "source": [
    "num_points = [100, 1_000, 5_000]\n",
    "num_sets = num_points\n",
    "density = [0.3, 0.7]"
   ]
  },
  {
   "cell_type": "code",
   "execution_count": 6,
   "id": "4b60bd99",
   "metadata": {},
   "outputs": [],
   "source": [
    "def goal_check(x,  num_pts):\n",
    "    sol = [False for _ in range(num_pts)]\n",
    "    for s in range(num_pts):\n",
    "        for p in range(num_pts):\n",
    "            sol[p] = sol[p] or x[s, p]\n",
    "    \n",
    "    return np.all(sol)\n",
    "\n",
    "assert goal_check(x, 1000)"
   ]
  },
  {
   "cell_type": "code",
   "execution_count": 7,
   "id": "871d1020",
   "metadata": {},
   "outputs": [],
   "source": [
    "# HILL CLIMBING\n",
    "\n",
    "\n",
    "def hill_climbing(N, all_lists):\n",
    "    logging.debug(f\"Original: {len(all_lists)}\")\n",
    "    all_lists = set(tuple(sorted(set(_))) for _ in all_lists)\n",
    "    logging.debug(f\"Optimized: {len(all_lists)}\")\n",
    "\n",
    "    def evaluate(state):\n",
    "        cnt = Counter()\n",
    "        cnt.update(sum((e for e in state), start=()))\n",
    "        return len(cnt), -cnt.total()\n",
    "\n",
    "    def tweak(solution):\n",
    "        new_solution = set(solution)\n",
    "        while new_solution and random.random() < 0.7:\n",
    "            r = random.choice(list(new_solution))\n",
    "            new_solution.remove(r)\n",
    "        while all_lists - solution and random.random() < 0.7:\n",
    "            a = random.choice(list(all_lists - solution))\n",
    "            new_solution.add(a)\n",
    "        return new_solution\n",
    "\n",
    "    current_solution = set()\n",
    "    useless_steps = 0\n",
    "    while useless_steps < 10_000:\n",
    "        useless_steps += 1\n",
    "        candidate_solution = tweak(current_solution)\n",
    "        if evaluate(candidate_solution) > evaluate(current_solution):\n",
    "            useless_steps = 0\n",
    "            current_solution = copy(candidate_solution)\n",
    "            logging.debug(f\"New solution: {evaluate(current_solution)}\")\n",
    "    return current_solution"
   ]
  },
  {
   "cell_type": "code",
   "execution_count": 8,
   "id": "6492337b-8429-472d-9c3e-c79c5b46da54",
   "metadata": {},
   "outputs": [
    {
     "ename": "KeyboardInterrupt",
     "evalue": "",
     "output_type": "error",
     "traceback": [
      "\u001b[0;31m---------------------------------------------------------------------------\u001b[0m",
      "\u001b[0;31mKeyboardInterrupt\u001b[0m                         Traceback (most recent call last)",
      "\u001b[1;32m/Users/roxane/Documents/GitHub/Computational-intelligence/Halloween challenge/Halloween.ipynb Cellule 10\u001b[0m line \u001b[0;36m6\n\u001b[1;32m      <a href='vscode-notebook-cell:/Users/roxane/Documents/GitHub/Computational-intelligence/Halloween%20challenge/Halloween.ipynb#X12sZmlsZQ%3D%3D?line=1'>2</a>\u001b[0m fewest_fitness_calls \u001b[39m=\u001b[39m \u001b[39mfloat\u001b[39m(\u001b[39m'\u001b[39m\u001b[39minf\u001b[39m\u001b[39m'\u001b[39m)\n\u001b[1;32m      <a href='vscode-notebook-cell:/Users/roxane/Documents/GitHub/Computational-intelligence/Halloween%20challenge/Halloween.ipynb#X12sZmlsZQ%3D%3D?line=3'>4</a>\u001b[0m \u001b[39mfor\u001b[39;00m num_points, num_sets, density \u001b[39min\u001b[39;00m product(num_points, num_sets, density):\n\u001b[1;32m      <a href='vscode-notebook-cell:/Users/roxane/Documents/GitHub/Computational-intelligence/Halloween%20challenge/Halloween.ipynb#X12sZmlsZQ%3D%3D?line=4'>5</a>\u001b[0m     \u001b[39m# Generate the set covering problem\u001b[39;00m\n\u001b[0;32m----> <a href='vscode-notebook-cell:/Users/roxane/Documents/GitHub/Computational-intelligence/Halloween%20challenge/Halloween.ipynb#X12sZmlsZQ%3D%3D?line=5'>6</a>\u001b[0m     problem \u001b[39m=\u001b[39m make_set_covering_problem(num_points, num_sets, density)\n\u001b[1;32m      <a href='vscode-notebook-cell:/Users/roxane/Documents/GitHub/Computational-intelligence/Halloween%20challenge/Halloween.ipynb#X12sZmlsZQ%3D%3D?line=7'>8</a>\u001b[0m     \u001b[39m# Replace this with your fitness function and optimization algorithm\u001b[39;00m\n\u001b[1;32m      <a href='vscode-notebook-cell:/Users/roxane/Documents/GitHub/Computational-intelligence/Halloween%20challenge/Halloween.ipynb#X12sZmlsZQ%3D%3D?line=8'>9</a>\u001b[0m     \u001b[39m# Fitness function will evaluate the quality of a solution\u001b[39;00m\n\u001b[1;32m     <a href='vscode-notebook-cell:/Users/roxane/Documents/GitHub/Computational-intelligence/Halloween%20challenge/Halloween.ipynb#X12sZmlsZQ%3D%3D?line=9'>10</a>\u001b[0m     \u001b[39m# Optimization algorithm will find the best solution\u001b[39;00m\n\u001b[0;32m   (...)\u001b[0m\n\u001b[1;32m     <a href='vscode-notebook-cell:/Users/roxane/Documents/GitHub/Computational-intelligence/Halloween%20challenge/Halloween.ipynb#X12sZmlsZQ%3D%3D?line=16'>17</a>\u001b[0m     \u001b[39m# For demonstration, let's assume some fitness calls\u001b[39;00m\n\u001b[1;32m     <a href='vscode-notebook-cell:/Users/roxane/Documents/GitHub/Computational-intelligence/Halloween%20challenge/Halloween.ipynb#X12sZmlsZQ%3D%3D?line=17'>18</a>\u001b[0m     \u001b[39m# Replace this with your actual fitness function and optimization process\u001b[39;00m\n\u001b[1;32m     <a href='vscode-notebook-cell:/Users/roxane/Documents/GitHub/Computational-intelligence/Halloween%20challenge/Halloween.ipynb#X12sZmlsZQ%3D%3D?line=18'>19</a>\u001b[0m     fitness_calls \u001b[39m=\u001b[39m \u001b[39m1000\u001b[39m\n",
      "\u001b[1;32m/Users/roxane/Documents/GitHub/Computational-intelligence/Halloween challenge/Halloween.ipynb Cellule 10\u001b[0m line \u001b[0;36m7\n\u001b[1;32m      <a href='vscode-notebook-cell:/Users/roxane/Documents/GitHub/Computational-intelligence/Halloween%20challenge/Halloween.ipynb#X12sZmlsZQ%3D%3D?line=4'>5</a>\u001b[0m \u001b[39mfor\u001b[39;00m s, p \u001b[39min\u001b[39;00m product(\u001b[39mrange\u001b[39m(num_sets), \u001b[39mrange\u001b[39m(num_points)):\n\u001b[1;32m      <a href='vscode-notebook-cell:/Users/roxane/Documents/GitHub/Computational-intelligence/Halloween%20challenge/Halloween.ipynb#X12sZmlsZQ%3D%3D?line=5'>6</a>\u001b[0m     \u001b[39mif\u001b[39;00m random() \u001b[39m<\u001b[39m density:\n\u001b[0;32m----> <a href='vscode-notebook-cell:/Users/roxane/Documents/GitHub/Computational-intelligence/Halloween%20challenge/Halloween.ipynb#X12sZmlsZQ%3D%3D?line=6'>7</a>\u001b[0m         sets[s, p] \u001b[39m=\u001b[39m \u001b[39mTrue\u001b[39;00m\n\u001b[1;32m      <a href='vscode-notebook-cell:/Users/roxane/Documents/GitHub/Computational-intelligence/Halloween%20challenge/Halloween.ipynb#X12sZmlsZQ%3D%3D?line=7'>8</a>\u001b[0m \u001b[39mfor\u001b[39;00m p \u001b[39min\u001b[39;00m \u001b[39mrange\u001b[39m(num_points):\n\u001b[1;32m      <a href='vscode-notebook-cell:/Users/roxane/Documents/GitHub/Computational-intelligence/Halloween%20challenge/Halloween.ipynb#X12sZmlsZQ%3D%3D?line=8'>9</a>\u001b[0m     sets[randint(\u001b[39m0\u001b[39m, num_sets\u001b[39m-\u001b[39m\u001b[39m1\u001b[39m), p] \u001b[39m=\u001b[39m \u001b[39mTrue\u001b[39;00m\n",
      "File \u001b[0;32m~/Documents/GitHub/Computational-intelligence/.venv/lib/python3.11/site-packages/scipy/sparse/_lil.py:322\u001b[0m, in \u001b[0;36m_lil_base.__setitem__\u001b[0;34m(self, key, x)\u001b[0m\n\u001b[1;32m    320\u001b[0m     \u001b[39mif\u001b[39;00m x\u001b[39m.\u001b[39msize \u001b[39m>\u001b[39m \u001b[39m1\u001b[39m:\n\u001b[1;32m    321\u001b[0m         \u001b[39mraise\u001b[39;00m \u001b[39mValueError\u001b[39;00m(\u001b[39m\"\u001b[39m\u001b[39mTrying to assign a sequence to an item\u001b[39m\u001b[39m\"\u001b[39m)\n\u001b[0;32m--> 322\u001b[0m     \u001b[39mreturn\u001b[39;00m \u001b[39mself\u001b[39;49m\u001b[39m.\u001b[39;49m_set_intXint(row, col, x)\n\u001b[1;32m    323\u001b[0m \u001b[39m# Fast path for full-matrix sparse assignment.\u001b[39;00m\n\u001b[1;32m    324\u001b[0m \u001b[39mif\u001b[39;00m (\u001b[39misinstance\u001b[39m(row, \u001b[39mslice\u001b[39m) \u001b[39mand\u001b[39;00m \u001b[39misinstance\u001b[39m(col, \u001b[39mslice\u001b[39m) \u001b[39mand\u001b[39;00m\n\u001b[1;32m    325\u001b[0m         row \u001b[39m==\u001b[39m \u001b[39mslice\u001b[39m(\u001b[39mNone\u001b[39;00m) \u001b[39mand\u001b[39;00m col \u001b[39m==\u001b[39m \u001b[39mslice\u001b[39m(\u001b[39mNone\u001b[39;00m) \u001b[39mand\u001b[39;00m\n\u001b[1;32m    326\u001b[0m         issparse(x) \u001b[39mand\u001b[39;00m x\u001b[39m.\u001b[39mshape \u001b[39m==\u001b[39m \u001b[39mself\u001b[39m\u001b[39m.\u001b[39mshape):\n",
      "File \u001b[0;32m~/Documents/GitHub/Computational-intelligence/.venv/lib/python3.11/site-packages/scipy/sparse/_lil.py:299\u001b[0m, in \u001b[0;36m_lil_base._set_intXint\u001b[0;34m(self, row, col, x)\u001b[0m\n\u001b[1;32m    298\u001b[0m \u001b[39mdef\u001b[39;00m \u001b[39m_set_intXint\u001b[39m(\u001b[39mself\u001b[39m, row, col, x):\n\u001b[0;32m--> 299\u001b[0m     _csparsetools\u001b[39m.\u001b[39;49mlil_insert(\u001b[39mself\u001b[39;49m\u001b[39m.\u001b[39;49mshape[\u001b[39m0\u001b[39;49m], \u001b[39mself\u001b[39;49m\u001b[39m.\u001b[39;49mshape[\u001b[39m1\u001b[39;49m], \u001b[39mself\u001b[39;49m\u001b[39m.\u001b[39;49mrows,\n\u001b[1;32m    300\u001b[0m                              \u001b[39mself\u001b[39;49m\u001b[39m.\u001b[39;49mdata, row, col, x)\n",
      "\u001b[0;31mKeyboardInterrupt\u001b[0m: "
     ]
    }
   ],
   "source": [
    "best_solution = None\n",
    "fewest_fitness_calls = float('inf')\n",
    "\n",
    "for num_points, num_sets, density in product(num_points, num_sets, density):\n",
    "    # Generate the set covering problem\n",
    "    problem = make_set_covering_problem(num_points, num_sets, density)\n",
    "    \n",
    "    # Replace this with your fitness function and optimization algorithm\n",
    "    # Fitness function will evaluate the quality of a solution\n",
    "    # Optimization algorithm will find the best solution\n",
    "    # For example, you can use a greedy algorithm or a heuristic search\n",
    "    \n",
    "    # Placeholder for fitness function and optimization\n",
    "    # This is where you would call your fitness function and find the solution\n",
    "    # You should keep track of the number of fitness function calls\n",
    "    \n",
    "    # For demonstration, let's assume some fitness calls\n",
    "    # Replace this with your actual fitness function and optimization process\n",
    "    fitness_calls = 1000\n",
    "    \n",
    "    if fitness_calls < fewest_fitness_calls:\n",
    "        fewest_fitness_calls = fitness_calls\n",
    "        best_solution = (num_points, num_sets, density)\n",
    "\n",
    "print(\"Best solution:\", best_solution)\n",
    "print(\"Fewest fitness function calls:\", fewest_fitness_calls)"
   ]
  },
  {
   "cell_type": "code",
   "execution_count": 21,
   "id": "8dea9cf1",
   "metadata": {},
   "outputs": [
    {
     "name": "stdout",
     "output_type": "stream",
     "text": [
      "0\n"
     ]
    },
    {
     "name": "stderr",
     "output_type": "stream",
     "text": [
      "/Users/roxane/Documents/GitHub/Computational-intelligence/.venv/lib/python3.11/site-packages/scipy/sparse/linalg/_dsolve/linsolve.py:229: SparseEfficiencyWarning: spsolve requires A be CSC or CSR matrix format\n",
      "  warn('spsolve requires A be CSC or CSR matrix format',\n",
      "/Users/roxane/Documents/GitHub/Computational-intelligence/.venv/lib/python3.11/site-packages/scipy/sparse/linalg/_dsolve/linsolve.py:293: MatrixRankWarning: Matrix is exactly singular\n",
      "  warn(\"Matrix is exactly singular\", MatrixRankWarning)\n"
     ]
    }
   ],
   "source": [
    "hstack([problem[:,[i]] for i in [0,1, 5]])\n",
    "\n",
    "\n",
    "selected_sets = hstack([problem[:,[i]] for i in [0, 1, 5]]).T # 3 * 1000\n",
    "\n",
    "identity_matrix = eye(selected_sets.shape[1]- selected_sets.shape[0], selected_sets.shape[1], selected_sets.shape[0])\n",
    "\n",
    "augmented_matrix = vstack([selected_sets, identity_matrix])\n",
    "\n",
    "ones = np.ones(augmented_matrix.shape[1])\n",
    "\n",
    "uncovered = np.logical_not(linalg.spsolve(augmented_matrix, ones))\n",
    "print(np.sum(uncovered))\n",
    "\n"
   ]
  },
  {
   "cell_type": "code",
   "execution_count": 38,
   "id": "f67112e8",
   "metadata": {},
   "outputs": [
    {
     "name": "stdout",
     "output_type": "stream",
     "text": [
      "\u001b[0;31mSignature:\u001b[0m \u001b[0mvstack\u001b[0m\u001b[0;34m(\u001b[0m\u001b[0mblocks\u001b[0m\u001b[0;34m,\u001b[0m \u001b[0mformat\u001b[0m\u001b[0;34m=\u001b[0m\u001b[0;32mNone\u001b[0m\u001b[0;34m,\u001b[0m \u001b[0mdtype\u001b[0m\u001b[0;34m=\u001b[0m\u001b[0;32mNone\u001b[0m\u001b[0;34m)\u001b[0m\u001b[0;34m\u001b[0m\u001b[0;34m\u001b[0m\u001b[0m\n",
      "\u001b[0;31mDocstring:\u001b[0m\n",
      "Stack sparse matrices vertically (row wise)\n",
      "\n",
      "Parameters\n",
      "----------\n",
      "blocks\n",
      "    sequence of sparse matrices with compatible shapes\n",
      "format : str, optional\n",
      "    sparse format of the result (e.g., \"csr\")\n",
      "    by default an appropriate sparse matrix format is returned.\n",
      "    This choice is subject to change.\n",
      "dtype : dtype, optional\n",
      "    The data-type of the output matrix. If not given, the dtype is\n",
      "    determined from that of `blocks`.\n",
      "\n",
      "See Also\n",
      "--------\n",
      "hstack : stack sparse matrices horizontally (column wise)\n",
      "\n",
      "Examples\n",
      "--------\n",
      ">>> from scipy.sparse import coo_matrix, vstack\n",
      ">>> A = coo_matrix([[1, 2], [3, 4]])\n",
      ">>> B = coo_matrix([[5, 6]])\n",
      ">>> vstack([A, B]).toarray()\n",
      "array([[1, 2],\n",
      "       [3, 4],\n",
      "       [5, 6]])\n",
      "\u001b[0;31mFile:\u001b[0m      ~/Documents/GitHub/Computational-intelligence/.venv/lib/python3.11/site-packages/scipy/sparse/_construct.py\n",
      "\u001b[0;31mType:\u001b[0m      function"
     ]
    }
   ],
   "source": [
    "\n",
    "augmented_matrix = hstack([selected_sets, identity_matrix])\n",
    "ones = np.ones(augmented_matrix.shape[1])\n",
    "\n",
    "uncovered = np.logical_not(linalg.spsolve(augmented_matrix, ones))\n",
    "print(np.sum(uncovered))"
   ]
  },
  {
   "cell_type": "code",
   "execution_count": 11,
   "id": "5397c475",
   "metadata": {},
   "outputs": [
    {
     "ename": "ValueError",
     "evalue": "blocks[:,0] has incompatible column dimensions. Got blocks[1,0].shape[1] == 1000, expected 1.",
     "output_type": "error",
     "traceback": [
      "\u001b[0;31m---------------------------------------------------------------------------\u001b[0m",
      "\u001b[0;31mValueError\u001b[0m                                Traceback (most recent call last)",
      "\u001b[1;32m/Users/roxane/Documents/GitHub/Computational-intelligence/Halloween challenge/Halloween.ipynb Cellule 13\u001b[0m line \u001b[0;36m7\n\u001b[1;32m     <a href='vscode-notebook-cell:/Users/roxane/Documents/GitHub/Computational-intelligence/Halloween%20challenge/Halloween.ipynb#X15sZmlsZQ%3D%3D?line=70'>71</a>\u001b[0m max_iterations \u001b[39m=\u001b[39m \u001b[39m1000\u001b[39m\n\u001b[1;32m     <a href='vscode-notebook-cell:/Users/roxane/Documents/GitHub/Computational-intelligence/Halloween%20challenge/Halloween.ipynb#X15sZmlsZQ%3D%3D?line=72'>73</a>\u001b[0m \u001b[39m# Find the best solution using Simulated Annealing\u001b[39;00m\n\u001b[0;32m---> <a href='vscode-notebook-cell:/Users/roxane/Documents/GitHub/Computational-intelligence/Halloween%20challenge/Halloween.ipynb#X15sZmlsZQ%3D%3D?line=73'>74</a>\u001b[0m best_solution \u001b[39m=\u001b[39m simulated_annealing(problem, initial_solution, initial_temperature, cooling_rate, max_iterations)\n\u001b[1;32m     <a href='vscode-notebook-cell:/Users/roxane/Documents/GitHub/Computational-intelligence/Halloween%20challenge/Halloween.ipynb#X15sZmlsZQ%3D%3D?line=75'>76</a>\u001b[0m \u001b[39mprint\u001b[39m(\u001b[39m\"\u001b[39m\u001b[39mBest solution:\u001b[39m\u001b[39m\"\u001b[39m, best_solution)\n\u001b[1;32m     <a href='vscode-notebook-cell:/Users/roxane/Documents/GitHub/Computational-intelligence/Halloween%20challenge/Halloween.ipynb#X15sZmlsZQ%3D%3D?line=76'>77</a>\u001b[0m \u001b[39mprint\u001b[39m(\u001b[39m\"\u001b[39m\u001b[39mBest fitness:\u001b[39m\u001b[39m\"\u001b[39m, fitness(best_solution, problem))\n",
      "\u001b[1;32m/Users/roxane/Documents/GitHub/Computational-intelligence/Halloween challenge/Halloween.ipynb Cellule 13\u001b[0m line \u001b[0;36m3\n\u001b[1;32m     <a href='vscode-notebook-cell:/Users/roxane/Documents/GitHub/Computational-intelligence/Halloween%20challenge/Halloween.ipynb#X15sZmlsZQ%3D%3D?line=33'>34</a>\u001b[0m         set_to_remove \u001b[39m=\u001b[39m choice(neighbor_solution)\n\u001b[1;32m     <a href='vscode-notebook-cell:/Users/roxane/Documents/GitHub/Computational-intelligence/Halloween%20challenge/Halloween.ipynb#X15sZmlsZQ%3D%3D?line=34'>35</a>\u001b[0m         neighbor_solution\u001b[39m.\u001b[39mremove(set_to_remove)\n\u001b[0;32m---> <a href='vscode-notebook-cell:/Users/roxane/Documents/GitHub/Computational-intelligence/Halloween%20challenge/Halloween.ipynb#X15sZmlsZQ%3D%3D?line=36'>37</a>\u001b[0m neighbor_fitness \u001b[39m=\u001b[39m fitness(neighbor_solution, problem)\n\u001b[1;32m     <a href='vscode-notebook-cell:/Users/roxane/Documents/GitHub/Computational-intelligence/Halloween%20challenge/Halloween.ipynb#X15sZmlsZQ%3D%3D?line=38'>39</a>\u001b[0m \u001b[39m# Calculate the change in fitness\u001b[39;00m\n\u001b[1;32m     <a href='vscode-notebook-cell:/Users/roxane/Documents/GitHub/Computational-intelligence/Halloween%20challenge/Halloween.ipynb#X15sZmlsZQ%3D%3D?line=39'>40</a>\u001b[0m delta_fitness \u001b[39m=\u001b[39m neighbor_fitness \u001b[39m-\u001b[39m current_fitness\n",
      "\u001b[1;32m/Users/roxane/Documents/GitHub/Computational-intelligence/Halloween challenge/Halloween.ipynb Cellule 13\u001b[0m line \u001b[0;36m9\n\u001b[1;32m      <a href='vscode-notebook-cell:/Users/roxane/Documents/GitHub/Computational-intelligence/Halloween%20challenge/Halloween.ipynb#X15sZmlsZQ%3D%3D?line=6'>7</a>\u001b[0m selected_sets \u001b[39m=\u001b[39m hstack([problem[:,[i]] \u001b[39mfor\u001b[39;00m i \u001b[39min\u001b[39;00m solution])\n\u001b[1;32m      <a href='vscode-notebook-cell:/Users/roxane/Documents/GitHub/Computational-intelligence/Halloween%20challenge/Halloween.ipynb#X15sZmlsZQ%3D%3D?line=7'>8</a>\u001b[0m identity_matrix \u001b[39m=\u001b[39m identity(selected_sets\u001b[39m.\u001b[39mshape[\u001b[39m0\u001b[39m])\n\u001b[0;32m----> <a href='vscode-notebook-cell:/Users/roxane/Documents/GitHub/Computational-intelligence/Halloween%20challenge/Halloween.ipynb#X15sZmlsZQ%3D%3D?line=8'>9</a>\u001b[0m augmented_matrix \u001b[39m=\u001b[39m vstack([selected_sets, identity_matrix])\n\u001b[1;32m     <a href='vscode-notebook-cell:/Users/roxane/Documents/GitHub/Computational-intelligence/Halloween%20challenge/Halloween.ipynb#X15sZmlsZQ%3D%3D?line=9'>10</a>\u001b[0m ones \u001b[39m=\u001b[39m np\u001b[39m.\u001b[39mones(augmented_matrix\u001b[39m.\u001b[39mshape[\u001b[39m1\u001b[39m])\n\u001b[1;32m     <a href='vscode-notebook-cell:/Users/roxane/Documents/GitHub/Computational-intelligence/Halloween%20challenge/Halloween.ipynb#X15sZmlsZQ%3D%3D?line=11'>12</a>\u001b[0m uncovered \u001b[39m=\u001b[39m np\u001b[39m.\u001b[39mlogical_not(linalg\u001b[39m.\u001b[39mspsolve(augmented_matrix, ones))\n",
      "File \u001b[0;32m~/Documents/GitHub/Computational-intelligence/.venv/lib/python3.11/site-packages/scipy/sparse/_construct.py:569\u001b[0m, in \u001b[0;36mvstack\u001b[0;34m(blocks, format, dtype)\u001b[0m\n\u001b[1;32m    538\u001b[0m \u001b[39mdef\u001b[39;00m \u001b[39mvstack\u001b[39m(blocks, \u001b[39mformat\u001b[39m\u001b[39m=\u001b[39m\u001b[39mNone\u001b[39;00m, dtype\u001b[39m=\u001b[39m\u001b[39mNone\u001b[39;00m):\n\u001b[1;32m    539\u001b[0m \u001b[39m    \u001b[39m\u001b[39m\"\"\"\u001b[39;00m\n\u001b[1;32m    540\u001b[0m \u001b[39m    Stack sparse matrices vertically (row wise)\u001b[39;00m\n\u001b[1;32m    541\u001b[0m \n\u001b[0;32m   (...)\u001b[0m\n\u001b[1;32m    567\u001b[0m \n\u001b[1;32m    568\u001b[0m \u001b[39m    \"\"\"\u001b[39;00m\n\u001b[0;32m--> 569\u001b[0m     \u001b[39mreturn\u001b[39;00m bmat([[b] \u001b[39mfor\u001b[39;49;00m b \u001b[39min\u001b[39;49;00m blocks], \u001b[39mformat\u001b[39;49m\u001b[39m=\u001b[39;49m\u001b[39mformat\u001b[39;49m, dtype\u001b[39m=\u001b[39;49mdtype)\n",
      "File \u001b[0;32m~/Documents/GitHub/Computational-intelligence/.venv/lib/python3.11/site-packages/scipy/sparse/_construct.py:677\u001b[0m, in \u001b[0;36mbmat\u001b[0;34m(blocks, format, dtype)\u001b[0m\n\u001b[1;32m    672\u001b[0m             \u001b[39melif\u001b[39;00m bcol_lengths[j] \u001b[39m!=\u001b[39m A\u001b[39m.\u001b[39mshape[\u001b[39m1\u001b[39m]:\n\u001b[1;32m    673\u001b[0m                 msg \u001b[39m=\u001b[39m (\u001b[39mf\u001b[39m\u001b[39m'\u001b[39m\u001b[39mblocks[:,\u001b[39m\u001b[39m{\u001b[39;00mj\u001b[39m}\u001b[39;00m\u001b[39m] has incompatible column \u001b[39m\u001b[39m'\u001b[39m\n\u001b[1;32m    674\u001b[0m                        \u001b[39mf\u001b[39m\u001b[39m'\u001b[39m\u001b[39mdimensions. \u001b[39m\u001b[39m'\u001b[39m\n\u001b[1;32m    675\u001b[0m                        \u001b[39mf\u001b[39m\u001b[39m'\u001b[39m\u001b[39mGot blocks[\u001b[39m\u001b[39m{\u001b[39;00mi\u001b[39m}\u001b[39;00m\u001b[39m,\u001b[39m\u001b[39m{\u001b[39;00mj\u001b[39m}\u001b[39;00m\u001b[39m].shape[1] == \u001b[39m\u001b[39m{\u001b[39;00mA\u001b[39m.\u001b[39mshape[\u001b[39m1\u001b[39m]\u001b[39m}\u001b[39;00m\u001b[39m, \u001b[39m\u001b[39m'\u001b[39m\n\u001b[1;32m    676\u001b[0m                        \u001b[39mf\u001b[39m\u001b[39m'\u001b[39m\u001b[39mexpected \u001b[39m\u001b[39m{\u001b[39;00mbcol_lengths[j]\u001b[39m}\u001b[39;00m\u001b[39m.\u001b[39m\u001b[39m'\u001b[39m)\n\u001b[0;32m--> 677\u001b[0m                 \u001b[39mraise\u001b[39;00m \u001b[39mValueError\u001b[39;00m(msg)\n\u001b[1;32m    679\u001b[0m nnz \u001b[39m=\u001b[39m \u001b[39msum\u001b[39m(block\u001b[39m.\u001b[39mnnz \u001b[39mfor\u001b[39;00m block \u001b[39min\u001b[39;00m blocks[block_mask])\n\u001b[1;32m    680\u001b[0m \u001b[39mif\u001b[39;00m dtype \u001b[39mis\u001b[39;00m \u001b[39mNone\u001b[39;00m:\n",
      "\u001b[0;31mValueError\u001b[0m: blocks[:,0] has incompatible column dimensions. Got blocks[1,0].shape[1] == 1000, expected 1."
     ]
    }
   ],
   "source": [
    "# Function to calculate the fitness value of a solution\n",
    "\n",
    "def fitness(solution, problem):\n",
    "    if not solution:\n",
    "        return float('inf')  # Return a large value for an empty solution\n",
    "\n",
    "    selected_sets = hstack([problem[:,[i]] for i in solution])\n",
    "    identity_matrix = identity(selected_sets.shape[0])\n",
    "    augmented_matrix = vstack([selected_sets, identity_matrix])\n",
    "    ones = np.ones(augmented_matrix.shape[1])\n",
    "\n",
    "    uncovered = np.logical_not(linalg.spsolve(augmented_matrix, ones))\n",
    "    return np.sum(uncovered)\n",
    "\n",
    "\n",
    "# Simulated Annealing function to find a solution to the set covering problem\n",
    "def simulated_annealing(problem, initial_solution, temperature, cooling_rate, max_iterations):\n",
    "    current_solution = initial_solution\n",
    "    current_fitness = fitness(current_solution, problem)\n",
    "    best_solution = current_solution\n",
    "    best_fitness = current_fitness\n",
    "\n",
    "    for _ in range(max_iterations):\n",
    "        # Generate a neighbor solution by randomly adding or removing a set\n",
    "        neighbor_solution = current_solution.copy()\n",
    "        if random() < 0.5:\n",
    "            # Add a random set\n",
    "            set_to_add = randint(0, problem.shape[0] - 1)\n",
    "            if set_to_add not in neighbor_solution:\n",
    "                neighbor_solution.append(set_to_add)\n",
    "        else:\n",
    "            # Remove a random set\n",
    "            if neighbor_solution:\n",
    "                set_to_remove = choice(neighbor_solution)\n",
    "                neighbor_solution.remove(set_to_remove)\n",
    "\n",
    "        neighbor_fitness = fitness(neighbor_solution, problem)\n",
    "\n",
    "        # Calculate the change in fitness\n",
    "        delta_fitness = neighbor_fitness - current_fitness\n",
    "\n",
    "        # Accept the neighbor solution if it improves fitness or with a certain probability\n",
    "        if delta_fitness < 0 or random() < np.exp(-delta_fitness / temperature):\n",
    "            current_solution = neighbor_solution\n",
    "            current_fitness = neighbor_fitness\n",
    "\n",
    "        # Update the best solution if needed\n",
    "        if current_fitness < best_fitness:\n",
    "            best_solution = current_solution\n",
    "            best_fitness = current_fitness\n",
    "\n",
    "        # Cool down the temperature\n",
    "        temperature *= cooling_rate\n",
    "\n",
    "    return best_solution\n",
    "\n",
    "# Example problem (replace with your problem data)\n",
    "problem_size = 20\n",
    "num_sets = 100\n",
    "problem = [np.array([random() < 0.3 for _ in range(problem_size)]) for _ in range(num_sets)]\n",
    "\n",
    "problem = x\n",
    "\n",
    "\n",
    "# Initial solution (empty in this case)\n",
    "initial_solution = []\n",
    "\n",
    "# Simulated Annealing parameters\n",
    "initial_temperature = 1.0\n",
    "cooling_rate = 0.99\n",
    "max_iterations = 1000\n",
    "\n",
    "# Find the best solution using Simulated Annealing\n",
    "best_solution = simulated_annealing(problem, initial_solution, initial_temperature, cooling_rate, max_iterations)\n",
    "\n",
    "print(\"Best solution:\", best_solution)\n",
    "print(\"Best fitness:\", fitness(best_solution, problem))"
   ]
  },
  {
   "cell_type": "code",
   "execution_count": 72,
   "id": "52b853e9",
   "metadata": {},
   "outputs": [],
   "source": [
    "def fitness(sets, state):\n",
    "    cost = np.sum(state)\n",
    "    if np.array(state).any():\n",
    "        valid = sets[np.array(state), :].max(axis=0).sum()\n",
    "    else:\n",
    "        valid = 0\n",
    "    return valid, -cost\n"
   ]
  },
  {
   "cell_type": "code",
   "execution_count": 70,
   "id": "f773bb72",
   "metadata": {},
   "outputs": [],
   "source": [
    "def tweak(state, size):\n",
    "    new_state = state.copy()\n",
    "    index = randint(0, size - 1)\n",
    "    new_state[index] = not new_state[index]\n",
    "    return new_state\n"
   ]
  },
  {
   "cell_type": "code",
   "execution_count": 75,
   "id": "85024380",
   "metadata": {},
   "outputs": [],
   "source": [
    "def hill_climbing(problem_size, num_sets, density, nb_steps = 100000):\n",
    "    sets = make_set_covering_problem(num_sets, num_sets, .3).toarray()\n",
    "    initial_state = [choice([False, False, False, False, False, False]) for _ in range(num_sets)]#[False for _ in range(num_sets)] \n",
    "    current_state = initial_state\n",
    "    print(\" The fitness of the initial state is : \", fitness(sets, initial_state))\n",
    "    counter  = 0\n",
    "    for step in range(nb_steps):\n",
    "        new_state = tweak(current_state, problem_size)\n",
    "        # if step % 10 == 0 : print(new_state)\n",
    "        counter += 1 #maybe it should be two\n",
    "        if fitness(sets, current_state)[:1] <= fitness(sets, new_state):\n",
    "            current_state = new_state\n",
    "            # print(fitness(sets, current_state))\n",
    "    return fitness(sets, current_state), counter\n",
    "            \n",
    "\n",
    "\n"
   ]
  },
  {
   "cell_type": "code",
   "execution_count": null,
   "id": "c8b7509e",
   "metadata": {},
   "outputs": [],
   "source": []
  },
  {
   "cell_type": "code",
   "execution_count": 53,
   "id": "f3c8669c",
   "metadata": {},
   "outputs": [
    {
     "data": {
      "text/plain": [
       "100"
      ]
     },
     "execution_count": 53,
     "metadata": {},
     "output_type": "execute_result"
    }
   ],
   "source": [
    "num_sets"
   ]
  },
  {
   "cell_type": "code",
   "execution_count": 76,
   "id": "e54fbcdd",
   "metadata": {},
   "outputs": [
    {
     "name": "stdout",
     "output_type": "stream",
     "text": [
      " The fitness of the initial state is :  (0, 0)\n"
     ]
    },
    {
     "data": {
      "text/plain": [
       "((1000, -480), 100000)"
      ]
     },
     "execution_count": 76,
     "metadata": {},
     "output_type": "execute_result"
    }
   ],
   "source": [
    "hill_climbing(1000, 1000, 0.6)"
   ]
  }
 ],
 "metadata": {
  "kernelspec": {
   "display_name": "Python 3 (ipykernel)",
   "language": "python",
   "name": "python3"
  },
  "language_info": {
   "codemirror_mode": {
    "name": "ipython",
    "version": 3
   },
   "file_extension": ".py",
   "mimetype": "text/x-python",
   "name": "python",
   "nbconvert_exporter": "python",
   "pygments_lexer": "ipython3",
   "version": "3.11.5"
  }
 },
 "nbformat": 4,
 "nbformat_minor": 5
}
