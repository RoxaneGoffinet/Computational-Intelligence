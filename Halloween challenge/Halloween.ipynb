{
 "cells": [
  {
   "cell_type": "markdown",
   "id": "185f9931-b384-4fdc-a5b2-eea785428bb8",
   "metadata": {},
   "source": [
    "Copyright **`(c)`** 2023 Giovanni Squillero `<giovanni.squillero@polito.it>`  \n",
    "[`https://github.com/squillero/computational-intelligence`](https://github.com/squillero/computational-intelligence)  \n",
    "Free for personal or classroom use; see [`LICENSE.md`](https://github.com/squillero/computational-intelligence/blob/master/LICENSE.md) for details.  "
   ]
  },
  {
   "cell_type": "code",
   "execution_count": 19,
   "id": "3ffe7245-e849-41d0-9698-5f0e0b83fee9",
   "metadata": {},
   "outputs": [],
   "source": [
    "from itertools import product\n",
    "from random import random, randint, shuffle, seed, choice\n",
    "import numpy as np\n",
    "from scipy import sparse\n",
    "import logging\n",
    "import platform\n",
    "from collections import Counter\n",
    "from scipy.sparse import linalg"
   ]
  },
  {
   "cell_type": "code",
   "execution_count": 3,
   "id": "6f03bd67-78a0-4d72-95b7-77a918727b91",
   "metadata": {},
   "outputs": [],
   "source": [
    "def make_set_covering_problem(num_points, num_sets, density):\n",
    "    \"\"\"Returns a sparse array where rows are sets and columns are the covered items\"\"\"\n",
    "    seed(num_points*2654435761+num_sets+density)\n",
    "    sets = sparse.lil_array((num_sets, num_points), dtype=bool)\n",
    "    for s, p in product(range(num_sets), range(num_points)):\n",
    "        if random() < density:\n",
    "            sets[s, p] = True\n",
    "    for p in range(num_points):\n",
    "        sets[randint(0, num_sets-1), p] = True\n",
    "    return sets"
   ]
  },
  {
   "cell_type": "markdown",
   "id": "82b0be37-21d9-492d-9a1d-cf0cdf0ddd76",
   "metadata": {},
   "source": [
    "# Halloween Challenge\n",
    "\n",
    "Find the best solution with the fewest calls to the fitness functions for:\n",
    "\n",
    "* `num_points = [100, 1_000, 5_000]`\n",
    "* `num_sets = num_points`\n",
    "* `density = [.3, .7]` "
   ]
  },
  {
   "cell_type": "code",
   "execution_count": 4,
   "id": "221ffdba-5d3d-48cc-bd08-45ccc9366ea6",
   "metadata": {},
   "outputs": [
    {
     "name": "stdout",
     "output_type": "stream",
     "text": [
      "Element at row=42 and column=42: False\n"
     ]
    }
   ],
   "source": [
    "x = make_set_covering_problem(1000, 1000, .3)\n",
    "print(\"Element at row=42 and column=42:\", x[42, 42])"
   ]
  },
  {
   "cell_type": "code",
   "execution_count": 15,
   "id": "6912e8bd",
   "metadata": {},
   "outputs": [],
   "source": [
    "SETS = x.toarray()"
   ]
  },
  {
   "cell_type": "code",
   "execution_count": 5,
   "id": "8145ceb7",
   "metadata": {},
   "outputs": [],
   "source": [
    "num_points = [100, 1_000, 5_000]\n",
    "num_sets = num_points\n",
    "density = [0.3, 0.7]"
   ]
  },
  {
   "cell_type": "code",
   "execution_count": 8,
   "id": "4b60bd99",
   "metadata": {},
   "outputs": [],
   "source": [
    "def goal_check(x,  num_pts):\n",
    "    sol = [False for _ in range(num_pts)]\n",
    "    for s in range(num_pts):\n",
    "        for p in range(num_pts):\n",
    "            sol[p] = sol[p] or x[s, p]\n",
    "    \n",
    "    return np.all(sol)\n",
    "\n",
    "assert goal_check(x, 1000)"
   ]
  },
  {
   "cell_type": "code",
   "execution_count": null,
   "id": "871d1020",
   "metadata": {},
   "outputs": [],
   "source": [
    "# HILL CLIMBING\n",
    "\n",
    "\n",
    "def hill_climbing(N, all_lists):\n",
    "    logging.debug(f\"Original: {len(all_lists)}\")\n",
    "    all_lists = set(tuple(sorted(set(_))) for _ in all_lists)\n",
    "    logging.debug(f\"Optimized: {len(all_lists)}\")\n",
    "\n",
    "    def evaluate(state):\n",
    "        cnt = Counter()\n",
    "        cnt.update(sum((e for e in state), start=()))\n",
    "        return len(cnt), -cnt.total()\n",
    "\n",
    "    def tweak(solution):\n",
    "        new_solution = set(solution)\n",
    "        while new_solution and random.random() < 0.7:\n",
    "            r = random.choice(list(new_solution))\n",
    "            new_solution.remove(r)\n",
    "        while all_lists - solution and random.random() < 0.7:\n",
    "            a = random.choice(list(all_lists - solution))\n",
    "            new_solution.add(a)\n",
    "        return new_solution\n",
    "\n",
    "    current_solution = set()\n",
    "    useless_steps = 0\n",
    "    while useless_steps < 10_000:\n",
    "        useless_steps += 1\n",
    "        candidate_solution = tweak(current_solution)\n",
    "        if evaluate(candidate_solution) > evaluate(current_solution):\n",
    "            useless_steps = 0\n",
    "            current_solution = copy(candidate_solution)\n",
    "            logging.debug(f\"New solution: {evaluate(current_solution)}\")\n",
    "    return current_solution"
   ]
  },
  {
   "cell_type": "code",
   "execution_count": null,
   "id": "6492337b-8429-472d-9c3e-c79c5b46da54",
   "metadata": {},
   "outputs": [],
   "source": [
    "best_solution = None\n",
    "fewest_fitness_calls = float('inf')\n",
    "\n",
    "for num_points, num_sets, density in product(num_points, num_sets, density):\n",
    "    # Generate the set covering problem\n",
    "    problem = make_set_covering_problem(num_points, num_sets, density)\n",
    "    \n",
    "    # Replace this with your fitness function and optimization algorithm\n",
    "    # Fitness function will evaluate the quality of a solution\n",
    "    # Optimization algorithm will find the best solution\n",
    "    # For example, you can use a greedy algorithm or a heuristic search\n",
    "    \n",
    "    # Placeholder for fitness function and optimization\n",
    "    # This is where you would call your fitness function and find the solution\n",
    "    # You should keep track of the number of fitness function calls\n",
    "    \n",
    "    # For demonstration, let's assume some fitness calls\n",
    "    # Replace this with your actual fitness function and optimization process\n",
    "    fitness_calls = 1000\n",
    "    \n",
    "    if fitness_calls < fewest_fitness_calls:\n",
    "        fewest_fitness_calls = fitness_calls\n",
    "        best_solution = (num_points, num_sets, density)\n",
    "\n",
    "print(\"Best solution:\", best_solution)\n",
    "print(\"Fewest fitness function calls:\", fewest_fitness_calls)"
   ]
  },
  {
   "cell_type": "code",
   "execution_count": 26,
   "id": "5397c475",
   "metadata": {},
   "outputs": [
    {
     "ename": "NotImplementedError",
     "evalue": "We have not yet implemented 1D sparse slices; please index using explicit indices, e.g. `x[:, [0]]`",
     "output_type": "error",
     "traceback": [
      "\u001b[0;31m---------------------------------------------------------------------------\u001b[0m",
      "\u001b[0;31mNotImplementedError\u001b[0m                       Traceback (most recent call last)",
      "\u001b[1;32m/Users/roxane/Documents/GitHub/Computational-intelligence/Halloween challenge/Halloween.ipynb Cellule 11\u001b[0m line \u001b[0;36m7\n\u001b[1;32m     <a href='vscode-notebook-cell:/Users/roxane/Documents/GitHub/Computational-intelligence/Halloween%20challenge/Halloween.ipynb#X13sZmlsZQ%3D%3D?line=66'>67</a>\u001b[0m max_iterations \u001b[39m=\u001b[39m \u001b[39m1000\u001b[39m\n\u001b[1;32m     <a href='vscode-notebook-cell:/Users/roxane/Documents/GitHub/Computational-intelligence/Halloween%20challenge/Halloween.ipynb#X13sZmlsZQ%3D%3D?line=68'>69</a>\u001b[0m \u001b[39m# Find the best solution using Simulated Annealing\u001b[39;00m\n\u001b[0;32m---> <a href='vscode-notebook-cell:/Users/roxane/Documents/GitHub/Computational-intelligence/Halloween%20challenge/Halloween.ipynb#X13sZmlsZQ%3D%3D?line=69'>70</a>\u001b[0m best_solution \u001b[39m=\u001b[39m simulated_annealing(problem, initial_solution, initial_temperature, cooling_rate, max_iterations)\n\u001b[1;32m     <a href='vscode-notebook-cell:/Users/roxane/Documents/GitHub/Computational-intelligence/Halloween%20challenge/Halloween.ipynb#X13sZmlsZQ%3D%3D?line=71'>72</a>\u001b[0m \u001b[39mprint\u001b[39m(\u001b[39m\"\u001b[39m\u001b[39mBest solution:\u001b[39m\u001b[39m\"\u001b[39m, best_solution)\n\u001b[1;32m     <a href='vscode-notebook-cell:/Users/roxane/Documents/GitHub/Computational-intelligence/Halloween%20challenge/Halloween.ipynb#X13sZmlsZQ%3D%3D?line=72'>73</a>\u001b[0m \u001b[39mprint\u001b[39m(\u001b[39m\"\u001b[39m\u001b[39mBest fitness:\u001b[39m\u001b[39m\"\u001b[39m, fitness(best_solution, problem))\n",
      "\u001b[1;32m/Users/roxane/Documents/GitHub/Computational-intelligence/Halloween challenge/Halloween.ipynb Cellule 11\u001b[0m line \u001b[0;36m3\n\u001b[1;32m     <a href='vscode-notebook-cell:/Users/roxane/Documents/GitHub/Computational-intelligence/Halloween%20challenge/Halloween.ipynb#X13sZmlsZQ%3D%3D?line=29'>30</a>\u001b[0m         set_to_remove \u001b[39m=\u001b[39m choice(neighbor_solution)\n\u001b[1;32m     <a href='vscode-notebook-cell:/Users/roxane/Documents/GitHub/Computational-intelligence/Halloween%20challenge/Halloween.ipynb#X13sZmlsZQ%3D%3D?line=30'>31</a>\u001b[0m         neighbor_solution\u001b[39m.\u001b[39mremove(set_to_remove)\n\u001b[0;32m---> <a href='vscode-notebook-cell:/Users/roxane/Documents/GitHub/Computational-intelligence/Halloween%20challenge/Halloween.ipynb#X13sZmlsZQ%3D%3D?line=32'>33</a>\u001b[0m neighbor_fitness \u001b[39m=\u001b[39m fitness(neighbor_solution, problem)\n\u001b[1;32m     <a href='vscode-notebook-cell:/Users/roxane/Documents/GitHub/Computational-intelligence/Halloween%20challenge/Halloween.ipynb#X13sZmlsZQ%3D%3D?line=34'>35</a>\u001b[0m \u001b[39m# Calculate the change in fitness\u001b[39;00m\n\u001b[1;32m     <a href='vscode-notebook-cell:/Users/roxane/Documents/GitHub/Computational-intelligence/Halloween%20challenge/Halloween.ipynb#X13sZmlsZQ%3D%3D?line=35'>36</a>\u001b[0m delta_fitness \u001b[39m=\u001b[39m neighbor_fitness \u001b[39m-\u001b[39m current_fitness\n",
      "\u001b[1;32m/Users/roxane/Documents/GitHub/Computational-intelligence/Halloween challenge/Halloween.ipynb Cellule 11\u001b[0m line \u001b[0;36m8\n\u001b[1;32m      <a href='vscode-notebook-cell:/Users/roxane/Documents/GitHub/Computational-intelligence/Halloween%20challenge/Halloween.ipynb#X13sZmlsZQ%3D%3D?line=4'>5</a>\u001b[0m \u001b[39mif\u001b[39;00m \u001b[39mnot\u001b[39;00m solution:\n\u001b[1;32m      <a href='vscode-notebook-cell:/Users/roxane/Documents/GitHub/Computational-intelligence/Halloween%20challenge/Halloween.ipynb#X13sZmlsZQ%3D%3D?line=5'>6</a>\u001b[0m     \u001b[39mreturn\u001b[39;00m \u001b[39mfloat\u001b[39m(\u001b[39m'\u001b[39m\u001b[39minf\u001b[39m\u001b[39m'\u001b[39m)  \u001b[39m# Return a large value for an empty solution\u001b[39;00m\n\u001b[0;32m----> <a href='vscode-notebook-cell:/Users/roxane/Documents/GitHub/Computational-intelligence/Halloween%20challenge/Halloween.ipynb#X13sZmlsZQ%3D%3D?line=7'>8</a>\u001b[0m selected_sets \u001b[39m=\u001b[39m vstack([problem[i] \u001b[39mfor\u001b[39;49;00m i \u001b[39min\u001b[39;49;00m solution])\u001b[39m.\u001b[39mT\n\u001b[1;32m      <a href='vscode-notebook-cell:/Users/roxane/Documents/GitHub/Computational-intelligence/Halloween%20challenge/Halloween.ipynb#X13sZmlsZQ%3D%3D?line=8'>9</a>\u001b[0m uncovered \u001b[39m=\u001b[39m np\u001b[39m.\u001b[39mlogical_not(linalg\u001b[39m.\u001b[39mspsolve(selected_sets, np\u001b[39m.\u001b[39mones(problem\u001b[39m.\u001b[39mshape[\u001b[39m1\u001b[39m])))\n\u001b[1;32m     <a href='vscode-notebook-cell:/Users/roxane/Documents/GitHub/Computational-intelligence/Halloween%20challenge/Halloween.ipynb#X13sZmlsZQ%3D%3D?line=9'>10</a>\u001b[0m \u001b[39mreturn\u001b[39;00m np\u001b[39m.\u001b[39msum(uncovered)\n",
      "\u001b[1;32m/Users/roxane/Documents/GitHub/Computational-intelligence/Halloween challenge/Halloween.ipynb Cellule 11\u001b[0m line \u001b[0;36m8\n\u001b[1;32m      <a href='vscode-notebook-cell:/Users/roxane/Documents/GitHub/Computational-intelligence/Halloween%20challenge/Halloween.ipynb#X13sZmlsZQ%3D%3D?line=4'>5</a>\u001b[0m \u001b[39mif\u001b[39;00m \u001b[39mnot\u001b[39;00m solution:\n\u001b[1;32m      <a href='vscode-notebook-cell:/Users/roxane/Documents/GitHub/Computational-intelligence/Halloween%20challenge/Halloween.ipynb#X13sZmlsZQ%3D%3D?line=5'>6</a>\u001b[0m     \u001b[39mreturn\u001b[39;00m \u001b[39mfloat\u001b[39m(\u001b[39m'\u001b[39m\u001b[39minf\u001b[39m\u001b[39m'\u001b[39m)  \u001b[39m# Return a large value for an empty solution\u001b[39;00m\n\u001b[0;32m----> <a href='vscode-notebook-cell:/Users/roxane/Documents/GitHub/Computational-intelligence/Halloween%20challenge/Halloween.ipynb#X13sZmlsZQ%3D%3D?line=7'>8</a>\u001b[0m selected_sets \u001b[39m=\u001b[39m vstack([problem[i] \u001b[39mfor\u001b[39;00m i \u001b[39min\u001b[39;00m solution])\u001b[39m.\u001b[39mT\n\u001b[1;32m      <a href='vscode-notebook-cell:/Users/roxane/Documents/GitHub/Computational-intelligence/Halloween%20challenge/Halloween.ipynb#X13sZmlsZQ%3D%3D?line=8'>9</a>\u001b[0m uncovered \u001b[39m=\u001b[39m np\u001b[39m.\u001b[39mlogical_not(linalg\u001b[39m.\u001b[39mspsolve(selected_sets, np\u001b[39m.\u001b[39mones(problem\u001b[39m.\u001b[39mshape[\u001b[39m1\u001b[39m])))\n\u001b[1;32m     <a href='vscode-notebook-cell:/Users/roxane/Documents/GitHub/Computational-intelligence/Halloween%20challenge/Halloween.ipynb#X13sZmlsZQ%3D%3D?line=9'>10</a>\u001b[0m \u001b[39mreturn\u001b[39;00m np\u001b[39m.\u001b[39msum(uncovered)\n",
      "File \u001b[0;32m~/Documents/GitHub/Computational-intelligence/.venv/lib/python3.11/site-packages/scipy/sparse/_lil.py:211\u001b[0m, in \u001b[0;36m_lil_base.__getitem__\u001b[0;34m(self, key)\u001b[0m\n\u001b[1;32m    209\u001b[0m     \u001b[39mreturn\u001b[39;00m \u001b[39mself\u001b[39m\u001b[39m.\u001b[39m_get_intXint(\u001b[39m*\u001b[39mkey)\n\u001b[1;32m    210\u001b[0m \u001b[39m# Everything else takes the normal path.\u001b[39;00m\n\u001b[0;32m--> 211\u001b[0m \u001b[39mreturn\u001b[39;00m IndexMixin\u001b[39m.\u001b[39;49m\u001b[39m__getitem__\u001b[39;49m(\u001b[39mself\u001b[39;49m, key)\n",
      "File \u001b[0;32m~/Documents/GitHub/Computational-intelligence/.venv/lib/python3.11/site-packages/scipy/sparse/_index.py:51\u001b[0m, in \u001b[0;36mIndexMixin.__getitem__\u001b[0;34m(self, key)\u001b[0m\n\u001b[1;32m     49\u001b[0m     \u001b[39mreturn\u001b[39;00m \u001b[39mself\u001b[39m\u001b[39m.\u001b[39m_get_intXint(row, col)\n\u001b[1;32m     50\u001b[0m \u001b[39melif\u001b[39;00m \u001b[39misinstance\u001b[39m(col, \u001b[39mslice\u001b[39m):\n\u001b[0;32m---> 51\u001b[0m     \u001b[39mself\u001b[39;49m\u001b[39m.\u001b[39;49m_raise_on_1d_array_slice()\n\u001b[1;32m     52\u001b[0m     \u001b[39mreturn\u001b[39;00m \u001b[39mself\u001b[39m\u001b[39m.\u001b[39m_get_intXslice(row, col)\n\u001b[1;32m     53\u001b[0m \u001b[39melif\u001b[39;00m col\u001b[39m.\u001b[39mndim \u001b[39m==\u001b[39m \u001b[39m1\u001b[39m:\n",
      "File \u001b[0;32m~/Documents/GitHub/Computational-intelligence/.venv/lib/python3.11/site-packages/scipy/sparse/_index.py:38\u001b[0m, in \u001b[0;36mIndexMixin._raise_on_1d_array_slice\u001b[0;34m(self)\u001b[0m\n\u001b[1;32m     30\u001b[0m \u001b[39m\u001b[39m\u001b[39m\"\"\"We do not currently support 1D sparse arrays.\u001b[39;00m\n\u001b[1;32m     31\u001b[0m \n\u001b[1;32m     32\u001b[0m \u001b[39mThis function is called each time that a 1D array would\u001b[39;00m\n\u001b[0;32m   (...)\u001b[0m\n\u001b[1;32m     35\u001b[0m \u001b[39mOnce 1D sparse arrays are implemented, it should be removed.\u001b[39;00m\n\u001b[1;32m     36\u001b[0m \u001b[39m\"\"\"\u001b[39;00m\n\u001b[1;32m     37\u001b[0m \u001b[39mif\u001b[39;00m \u001b[39mself\u001b[39m\u001b[39m.\u001b[39m_is_array:\n\u001b[0;32m---> 38\u001b[0m     \u001b[39mraise\u001b[39;00m \u001b[39mNotImplementedError\u001b[39;00m(\n\u001b[1;32m     39\u001b[0m         \u001b[39m'\u001b[39m\u001b[39mWe have not yet implemented 1D sparse slices; \u001b[39m\u001b[39m'\u001b[39m\n\u001b[1;32m     40\u001b[0m         \u001b[39m'\u001b[39m\u001b[39mplease index using explicit indices, e.g. `x[:, [0]]`\u001b[39m\u001b[39m'\u001b[39m\n\u001b[1;32m     41\u001b[0m     )\n",
      "\u001b[0;31mNotImplementedError\u001b[0m: We have not yet implemented 1D sparse slices; please index using explicit indices, e.g. `x[:, [0]]`"
     ]
    }
   ],
   "source": [
    "# Function to calculate the fitness value of a solution\n",
    "from scipy.sparse import vstack\n",
    "\n",
    "def fitness(solution, problem):\n",
    "    if not solution:\n",
    "        return float('inf')  # Return a large value for an empty solution\n",
    "\n",
    "    selected_sets = vstack([problem[i] for i in solution]).T\n",
    "    uncovered = np.logical_not(linalg.spsolve(selected_sets, np.ones(problem.shape[1])))\n",
    "    return np.sum(uncovered)\n",
    "\n",
    "# Simulated Annealing function to find a solution to the set covering problem\n",
    "def simulated_annealing(problem, initial_solution, temperature, cooling_rate, max_iterations):\n",
    "    current_solution = initial_solution\n",
    "    current_fitness = fitness(current_solution, problem)\n",
    "    best_solution = current_solution\n",
    "    best_fitness = current_fitness\n",
    "\n",
    "    for iteration in range(max_iterations):\n",
    "        # Generate a neighbor solution by randomly adding or removing a set\n",
    "        neighbor_solution = current_solution.copy()\n",
    "        if random() < 0.5:\n",
    "            # Add a random set\n",
    "            set_to_add = randint(0, problem.shape[0] - 1)\n",
    "            if set_to_add not in neighbor_solution:\n",
    "                neighbor_solution.append(set_to_add)\n",
    "        else:\n",
    "            # Remove a random set\n",
    "            if neighbor_solution:\n",
    "                set_to_remove = choice(neighbor_solution)\n",
    "                neighbor_solution.remove(set_to_remove)\n",
    "\n",
    "        neighbor_fitness = fitness(neighbor_solution, problem)\n",
    "\n",
    "        # Calculate the change in fitness\n",
    "        delta_fitness = neighbor_fitness - current_fitness\n",
    "\n",
    "        # Accept the neighbor solution if it improves fitness or with a certain probability\n",
    "        if delta_fitness < 0 or random() < np.exp(-delta_fitness / temperature):\n",
    "            current_solution = neighbor_solution\n",
    "            current_fitness = neighbor_fitness\n",
    "\n",
    "        # Update the best solution if needed\n",
    "        if current_fitness < best_fitness:\n",
    "            best_solution = current_solution\n",
    "            best_fitness = current_fitness\n",
    "\n",
    "        # Cool down the temperature\n",
    "        temperature *= cooling_rate\n",
    "\n",
    "    return best_solution\n",
    "\n",
    "# Example problem (replace with your problem data)\n",
    "problem_size = 20\n",
    "num_sets = 100\n",
    "problem = [np.array([random() < 0.3 for _ in range(problem_size)]) for _ in range(num_sets)]\n",
    "\n",
    "problem = x\n",
    "\n",
    "\n",
    "# Initial solution (empty in this case)\n",
    "initial_solution = []\n",
    "\n",
    "# Simulated Annealing parameters\n",
    "initial_temperature = 1.0\n",
    "cooling_rate = 0.99\n",
    "max_iterations = 1000\n",
    "\n",
    "# Find the best solution using Simulated Annealing\n",
    "best_solution = simulated_annealing(problem, initial_solution, initial_temperature, cooling_rate, max_iterations)\n",
    "\n",
    "print(\"Best solution:\", best_solution)\n",
    "print(\"Best fitness:\", fitness(best_solution, problem))"
   ]
  },
  {
   "cell_type": "code",
   "execution_count": null,
   "id": "398ec620",
   "metadata": {},
   "outputs": [],
   "source": []
  }
 ],
 "metadata": {
  "kernelspec": {
   "display_name": "Python 3 (ipykernel)",
   "language": "python",
   "name": "python3"
  },
  "language_info": {
   "codemirror_mode": {
    "name": "ipython",
    "version": 3
   },
   "file_extension": ".py",
   "mimetype": "text/x-python",
   "name": "python",
   "nbconvert_exporter": "python",
   "pygments_lexer": "ipython3",
   "version": "3.11.5"
  }
 },
 "nbformat": 4,
 "nbformat_minor": 5
}
