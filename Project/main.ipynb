{
 "cells": [
  {
   "cell_type": "code",
   "execution_count": 42,
   "metadata": {},
   "outputs": [],
   "source": [
    "# Import all the players\n",
    "from main import *\n",
    "from game import *\n",
    "from utils import *\n",
    "from RandomPlayer import RandomPlayer\n",
    "from RLPlayer import RLPlayer\n",
    "from MinmaxPlayer import MinmaxPlayer"
   ]
  },
  {
   "cell_type": "markdown",
   "metadata": {},
   "source": [
    "# Initialization of the players"
   ]
  },
  {
   "cell_type": "code",
   "execution_count": 32,
   "metadata": {},
   "outputs": [],
   "source": [
    "# Parameter choice for the MinMaxPlayer\n",
    "DEPTH = 2"
   ]
  },
  {
   "cell_type": "code",
   "execution_count": 33,
   "metadata": {},
   "outputs": [],
   "source": [
    "PlayerMM = MinmaxPlayer(DEPTH)\n",
    "PlayerR = RandomPlayer()\n",
    "playerRL = RLPlayer()"
   ]
  },
  {
   "cell_type": "markdown",
   "metadata": {},
   "source": [
    "## Let's start with reinforcement learning"
   ]
  },
  {
   "cell_type": "code",
   "execution_count": 34,
   "metadata": {},
   "outputs": [
    {
     "name": "stdout",
     "output_type": "stream",
     "text": [
      "Testing\n",
      "RL vs. Random\n"
     ]
    },
    {
     "name": "stderr",
     "output_type": "stream",
     "text": [
      "100%|██████████| 3000/3000 [00:07<00:00, 376.46it/s]"
     ]
    },
    {
     "name": "stdout",
     "output_type": "stream",
     "text": [
      "The winning ratio of RL vs. Random is : 80.43333333333334 %\n"
     ]
    },
    {
     "name": "stderr",
     "output_type": "stream",
     "text": [
      "\n"
     ]
    }
   ],
   "source": [
    "# Reinfocement Learning Player\n",
    "TRAINING = False # True if you want to train the RL agent\n",
    "TESTING = True\n",
    "\n",
    "if TRAINING :\n",
    "    print(\" Training of RL agent\")\n",
    "    playerRL.training()\n",
    "\n",
    "\n",
    "if TESTING:\n",
    "    print(\"Testing\")\n",
    "    playerRL.test_random()"
   ]
  },
  {
   "cell_type": "markdown",
   "metadata": {},
   "source": [
    "## And then the Minmax Player"
   ]
  },
  {
   "cell_type": "code",
   "execution_count": 35,
   "metadata": {},
   "outputs": [
    {
     "name": "stderr",
     "output_type": "stream",
     "text": [
      "  0%|          | 0/10 [00:00<?, ?it/s]"
     ]
    },
    {
     "name": "stdout",
     "output_type": "stream",
     "text": [
      "44\n",
      "41\n",
      "39\n",
      "39\n",
      "37\n",
      "33\n",
      "31\n"
     ]
    },
    {
     "name": "stderr",
     "output_type": "stream",
     "text": [
      " 10%|█         | 1/10 [00:41<06:11, 41.31s/it]"
     ]
    },
    {
     "name": "stdout",
     "output_type": "stream",
     "text": [
      "31\n",
      "44\n",
      "42\n",
      "39\n",
      "39\n",
      "36\n"
     ]
    },
    {
     "name": "stderr",
     "output_type": "stream",
     "text": [
      " 20%|██        | 2/10 [01:21<05:26, 40.83s/it]"
     ]
    },
    {
     "name": "stdout",
     "output_type": "stream",
     "text": [
      "37\n",
      "36\n",
      "44\n",
      "42\n",
      "39\n",
      "39\n"
     ]
    },
    {
     "name": "stderr",
     "output_type": "stream",
     "text": [
      " 30%|███       | 3/10 [01:51<04:09, 35.61s/it]"
     ]
    },
    {
     "name": "stdout",
     "output_type": "stream",
     "text": [
      "36\n",
      "44\n",
      "42\n",
      "40\n",
      "40\n",
      "40\n",
      "37\n",
      "38\n"
     ]
    },
    {
     "name": "stderr",
     "output_type": "stream",
     "text": [
      " 40%|████      | 4/10 [02:37<03:58, 39.69s/it]"
     ]
    },
    {
     "name": "stdout",
     "output_type": "stream",
     "text": [
      "44\n",
      "42\n",
      "39\n",
      "39\n"
     ]
    },
    {
     "name": "stderr",
     "output_type": "stream",
     "text": [
      " 50%|█████     | 5/10 [03:14<03:13, 38.77s/it]"
     ]
    },
    {
     "name": "stdout",
     "output_type": "stream",
     "text": [
      "39\n",
      "36\n",
      "44\n",
      "42\n",
      "40\n",
      "36\n",
      "38\n",
      "34\n",
      "35\n"
     ]
    },
    {
     "name": "stderr",
     "output_type": "stream",
     "text": [
      " 60%|██████    | 6/10 [03:53<02:36, 39.09s/it]"
     ]
    },
    {
     "name": "stdout",
     "output_type": "stream",
     "text": [
      "44\n",
      "42\n",
      "39\n",
      "37\n",
      "33\n",
      "34\n",
      "30\n",
      "30\n"
     ]
    },
    {
     "name": "stderr",
     "output_type": "stream",
     "text": [
      " 70%|███████   | 7/10 [04:32<01:56, 38.94s/it]"
     ]
    },
    {
     "name": "stdout",
     "output_type": "stream",
     "text": [
      "44\n",
      "41\n",
      "39\n",
      "37\n",
      "33\n",
      "33\n"
     ]
    },
    {
     "name": "stderr",
     "output_type": "stream",
     "text": [
      " 80%|████████  | 8/10 [05:08<01:16, 38.00s/it]"
     ]
    },
    {
     "name": "stdout",
     "output_type": "stream",
     "text": [
      "31\n",
      "44\n",
      "41\n",
      "38\n",
      "38\n"
     ]
    },
    {
     "name": "stderr",
     "output_type": "stream",
     "text": [
      " 90%|█████████ | 9/10 [05:35<00:34, 34.52s/it]"
     ]
    },
    {
     "name": "stdout",
     "output_type": "stream",
     "text": [
      "35\n",
      "44\n",
      "42\n",
      "39\n"
     ]
    },
    {
     "name": "stderr",
     "output_type": "stream",
     "text": [
      "100%|██████████| 10/10 [06:08<00:00, 36.88s/it]"
     ]
    },
    {
     "name": "stdout",
     "output_type": "stream",
     "text": [
      "37\n",
      "34\n",
      "37\n",
      "Stats:\n",
      "  - Total number of plays: 10\n",
      "  - Number of wins: 10\n",
      "  - Number of losts: 0\n",
      "  - Number of draws: 0\n",
      "  - Percentage of winning: 100.00%\n"
     ]
    },
    {
     "name": "stderr",
     "output_type": "stream",
     "text": [
      "\n"
     ]
    },
    {
     "data": {
      "image/png": "[encoded data removed]",
      "text/plain": [
       "<Figure size 640x480 with 1 Axes>"
      ]
     },
     "metadata": {},
     "output_type": "display_data"
    }
   ],
   "source": [
    "# Minmax Player --- warning : long time to compute\n",
    "NB_GAMES = 10\n",
    "wins = 0\n",
    "losses = 0\n",
    "for _ in tqdm(range(NB_GAMES)):\n",
    "    g = BetterGame()\n",
    "    player1 = MinmaxPlayer(DEPTH) \n",
    "    player2 = RandomPlayer()\n",
    "    winner = g.play(player1, player2)  \n",
    "    if winner == 0:\n",
    "        wins += 1\n",
    "    if winner == 1:\n",
    "        losses += 1\n",
    "            \n",
    "print_stats(wins, losses, NB_GAMES,\" Results of MinMaxPlayer({}) vs RandomPlayer on {} games\".format(DEPTH, NB_GAMES))\n"
   ]
  },
  {
   "cell_type": "markdown",
   "metadata": {},
   "source": [
    "## Let's try now RLPLayer vs. Minmax player"
   ]
  },
  {
   "cell_type": "code",
   "execution_count": 50,
   "metadata": {},
   "outputs": [
    {
     "name": "stdout",
     "output_type": "stream",
     "text": [
      "Stats:\n",
      "  - Total number of plays: 5\n",
      "  - Number of wins of RL Player: 0\n",
      "  - Number of wins of MinMax Player: 5\n",
      "  - Number of draws: 0\n"
     ]
    },
    {
     "data": {
      "image/png": "[encoded data removed]",
      "text/plain": [
       "<Figure size 640x480 with 1 Axes>"
      ]
     },
     "metadata": {},
     "output_type": "display_data"
    }
   ],
   "source": [
    "player1 = RLPlayer() \n",
    "player1.init_proba()\n",
    "player1.epsilon = 0.1\n",
    "player1.load_weights(\"proba_pos\", \"proba_move\")\n",
    "\n",
    "player2 = MinmaxPlayer(DEPTH)\n",
    "\n",
    "NB_GAMES = 5\n",
    "wins_RL = 0\n",
    "wins_MM = 0\n",
    "for _ in tqdm(range(NB_GAMES)):\n",
    "    player1.clear_picks()\n",
    "    g = BetterGame()\n",
    "\n",
    "    winner = g.play(player1, player2) \n",
    "    if winner == 0:\n",
    "        wins_RL += 1\n",
    "    if winner == 1:\n",
    "        wins_MM += 1\n",
    "\n",
    "print_statsMMRL(wins_RL, wins_MM, NB_GAMES,\" Results of MinMaxPlayer({}) vs RLPlayer on {} games\".format(DEPTH, NB_GAMES))"
   ]
  }
 ],
 "metadata": {
  "kernelspec": {
   "display_name": ".venv",
   "language": "python",
   "name": "python3"
  },
  "language_info": {
   "codemirror_mode": {
    "name": "ipython",
    "version": 3
   },
   "file_extension": ".py",
   "mimetype": "text/x-python",
   "name": "python",
   "nbconvert_exporter": "python",
   "pygments_lexer": "ipython3",
   "version": "3.11.5"
  },
  "orig_nbformat": 4
 },
 "nbformat": 4,
 "nbformat_minor": 2
}
