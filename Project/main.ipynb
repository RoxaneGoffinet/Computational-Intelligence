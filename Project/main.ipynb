{
 "cells": [
  {
   "cell_type": "code",
   "execution_count": 1,
   "metadata": {},
   "outputs": [],
   "source": [
    "# Import all the players\n",
    "from main import *\n",
    "from RandomPlayer import RandomPlayer\n",
    "from RLPlayer import RLPlayer\n",
    "from MinmaxPlayer import MinmaxPlayer"
   ]
  },
  {
   "cell_type": "markdown",
   "metadata": {},
   "source": [
    "# Initialization of the players"
   ]
  },
  {
   "cell_type": "code",
   "execution_count": 2,
   "metadata": {},
   "outputs": [],
   "source": [
    "# Parameter choice for the MinMaxPlayer\n",
    "DEPTH = 2"
   ]
  },
  {
   "cell_type": "code",
   "execution_count": 3,
   "metadata": {},
   "outputs": [],
   "source": [
    "PlayerMM = MinmaxPlayer(DEPTH)\n",
    "PlayerR = RandomPlayer()\n",
    "playerRL = RLPlayer()"
   ]
  },
  {
   "cell_type": "markdown",
   "metadata": {},
   "source": [
    "## Let's start with reinforcement learning"
   ]
  },
  {
   "cell_type": "code",
   "execution_count": 4,
   "metadata": {},
   "outputs": [
    {
     "name": "stdout",
     "output_type": "stream",
     "text": [
      "Testing\n",
      "RL vs. Random\n"
     ]
    },
    {
     "name": "stderr",
     "output_type": "stream",
     "text": [
      "100%|██████████| 3000/3000 [00:07<00:00, 400.24it/s]"
     ]
    },
    {
     "name": "stdout",
     "output_type": "stream",
     "text": [
      "The winning ratio of RL vs. Random is : 81.39999999999999 %\n"
     ]
    },
    {
     "name": "stderr",
     "output_type": "stream",
     "text": [
      "\n"
     ]
    }
   ],
   "source": [
    "# Reinfocement Learning Player\n",
    "TRAINING = False # True if you want to train the RL agent\n",
    "TESTING = True\n",
    "\n",
    "if TRAINING :\n",
    "    print(\" Training of RL agent\")\n",
    "    playerRL.training()\n",
    "\n",
    "\n",
    "if TESTING:\n",
    "    print(\"Testing\")\n",
    "    playerRL.test_random()"
   ]
  },
  {
   "cell_type": "markdown",
   "metadata": {},
   "source": [
    "## And then the Minmax Player"
   ]
  },
  {
   "cell_type": "code",
   "execution_count": 5,
   "metadata": {},
   "outputs": [
    {
     "name": "stderr",
     "output_type": "stream",
     "text": [
      "  0%|          | 0/20 [00:00<?, ?it/s]"
     ]
    }
   ],
   "source": [
    "# Minmax Player --- warning : long time to compute\n",
    "NB_GAMES = 20\n",
    "wins = 0\n",
    "losses = 0\n",
    "for _ in tqdm(range(NB_GAMES)):\n",
    "    g = BetterGame()\n",
    "    player1 = MinmaxPlayer(DEPTH)  # put the depth as parameter\n",
    "    player2 = RandomPlayer()\n",
    "    winner = g.play(player1, player2)  #player1 plays as 0 and player2 plays as 1\n",
    "    if winner == 0:\n",
    "        wins += 1\n",
    "    if winner == 1:\n",
    "        losses += 1\n",
    "            \n",
    "print_stats(wins, losses, NB_GAMES,\" Results of MinMaxPlayer({}) vs RandomPlayer on {} games\".format(DEPTH, NB_GAMES))\n"
   ]
  },
  {
   "cell_type": "markdown",
   "metadata": {},
   "source": [
    "## Let's try now RLPLayer vs. Minmax player"
   ]
  },
  {
   "cell_type": "code",
   "execution_count": null,
   "metadata": {},
   "outputs": [
    {
     "name": "stderr",
     "output_type": "stream",
     "text": [
      "100%|██████████| 10/10 [04:57<00:00, 29.75s/it]"
     ]
    },
    {
     "name": "stdout",
     "output_type": "stream",
     "text": [
      "Stats:\n",
      "  - Total number of plays: 10\n",
      "  - Number of wins: 0\n",
      "  - Number of losts: 10\n",
      "  - Number of draws: 0\n",
      "  - Percentage of winning: 0.00%\n"
     ]
    },
    {
     "name": "stderr",
     "output_type": "stream",
     "text": [
      "\n"
     ]
    },
    {
     "data": {
      "image/png": "[encoded data removed]",
      "text/plain": [
       "<Figure size 640x480 with 1 Axes>"
      ]
     },
     "metadata": {},
     "output_type": "display_data"
    }
   ],
   "source": [
    "player1 = RLPlayer() \n",
    "player1.init_proba()\n",
    "player1.epsilon = 0.1\n",
    "player1.load_weights(\"proba_pos\", \"proba_move\")\n",
    "\n",
    "player2 = MinmaxPlayer(DEPTH)\n",
    "\n",
    "NB_GAMES = 10\n",
    "wins_RL = 0\n",
    "wins_MM = 0\n",
    "for _ in tqdm(range(NB_GAMES)):\n",
    "    player1.clear_picks()\n",
    "    g = BetterGame()\n",
    "\n",
    "    winner = g.play(player1, player2)  #player1 plays as 0 and player2 plays as 1\n",
    "    if winner == 0:\n",
    "        wins_RL += 1\n",
    "    if winner == 1:\n",
    "        wins_MM += 1\n",
    "\n",
    "print_statsMMRL(wins_RL, wins_MM, NB_GAMES,\" Results of MinMaxPlayer({}) vs RandomPlayer on {} games\".format(DEPTH, NB_GAMES))"
   ]
  }
 ],
 "metadata": {
  "kernelspec": {
   "display_name": ".venv",
   "language": "python",
   "name": "python3"
  },
  "language_info": {
   "codemirror_mode": {
    "name": "ipython",
    "version": 3
   },
   "file_extension": ".py",
   "mimetype": "text/x-python",
   "name": "python",
   "nbconvert_exporter": "python",
   "pygments_lexer": "ipython3",
   "version": "3.11.5"
  },
  "orig_nbformat": 4
 },
 "nbformat": 4,
 "nbformat_minor": 2
}
