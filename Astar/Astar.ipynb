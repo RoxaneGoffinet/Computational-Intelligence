{
 "cells": [
  {
   "cell_type": "code",
   "execution_count": 1,
   "metadata": {},
   "outputs": [],
   "source": [
    "from queue import PriorityQueue\n",
    "from collections import namedtuple\n",
    "import numpy as np\n",
    "from functools import reduce"
   ]
  },
  {
   "cell_type": "code",
   "execution_count": 5,
   "metadata": {},
   "outputs": [],
   "source": [
    "PROBLEM_SIZE = 20  #500\n",
    "NUM_SETS = 40   #10000"
   ]
  },
  {
   "cell_type": "code",
   "execution_count": 6,
   "metadata": {},
   "outputs": [],
   "source": [
    "# Generate random set\n",
    "SETS = [tuple(np.array([np.random.random() < 0.3 for _ in range(PROBLEM_SIZE)])) for _ in range(NUM_SETS)]\n",
    "\n",
    "State = namedtuple('State', ['taken', 'not_taken'])"
   ]
  },
  {
   "cell_type": "code",
   "execution_count": 7,
   "metadata": {},
   "outputs": [],
   "source": [
    "def goal_check(state):\n",
    "    return np.all(np.any([SETS[i] for i in state.taken], axis=0))\n",
    "\n",
    "def heuristic(state):\n",
    "    taken_sets = [SETS[i] for i in state.taken]\n",
    "    uncovered_elements = np.logical_not(np.any(taken_sets, axis=0))\n",
    "    return np.sum(uncovered_elements)\n",
    "\n",
    "\n",
    "#Other possible heuristic :\n",
    "\n",
    "def heuristic2(state):\n",
    "    return len(state.taken) + PROBLEM_SIZE - sum(\n",
    "        reduce(\n",
    "            np.logical_or,\n",
    "            [SETS[i] for i in state.taken],\n",
    "            np.array([False for _ in range(PROBLEM_SIZE)]),))\n",
    "\n",
    "\n"
   ]
  },
  {
   "cell_type": "markdown",
   "metadata": {},
   "source": [
    "The heuristic chosen like this is optimistic and allows us to find the global minimum without having an algorithm too greedy."
   ]
  },
  {
   "cell_type": "code",
   "execution_count": 8,
   "metadata": {},
   "outputs": [
    {
     "name": "stdout",
     "output_type": "stream",
     "text": [
      "Solved in 5 steps (4 sets chosen)\n",
      "The sets taken where :  {0, 3, 35, 7}\n"
     ]
    },
    {
     "data": {
      "text/plain": [
       "True"
      ]
     },
     "execution_count": 8,
     "metadata": {},
     "output_type": "execute_result"
    }
   ],
   "source": [
    "frontier = PriorityQueue() #Try Deque\n",
    "start_state = State(set(), set(range(NUM_SETS)))\n",
    "frontier.put((heuristic(start_state), start_state))\n",
    "explored = set()\n",
    "\n",
    "counter = 0\n",
    "while not frontier.empty():\n",
    "    _, current_state = frontier.get()\n",
    "    counter += 1\n",
    "\n",
    "    if goal_check(current_state):\n",
    "        break\n",
    "\n",
    "    explored.add((tuple(current_state.taken), tuple(current_state.not_taken)))\n",
    "\n",
    "    for action in current_state.not_taken:\n",
    "        new_taken = current_state.taken | {action}\n",
    "        new_not_taken = current_state.not_taken - {action}\n",
    "        new_state = State(new_taken, new_not_taken)\n",
    "\n",
    "        if (tuple(new_state.taken), tuple(new_state.not_taken)) not in explored:\n",
    "            frontier.put((heuristic(new_state), new_state))\n",
    "\n",
    "print( \"Solved in {} steps ({} sets chosen)\".format(counter,len(current_state.taken)))\n",
    "print(\"The sets taken where : \", current_state.taken)\n",
    "goal_check(current_state)"
   ]
  },
  {
   "cell_type": "code",
   "execution_count": 10,
   "metadata": {},
   "outputs": [
    {
     "name": "stdout",
     "output_type": "stream",
     "text": [
      "Solved in 8 steps (4 sets chosen)\n",
      "The sets taken where :  {0, 3, 35, 7}\n"
     ]
    },
    {
     "data": {
      "text/plain": [
       "True"
      ]
     },
     "execution_count": 10,
     "metadata": {},
     "output_type": "execute_result"
    }
   ],
   "source": [
    "frontier = PriorityQueue() #Try Deque\n",
    "start_state = State(set(), set(range(NUM_SETS)))\n",
    "frontier.put((heuristic2(start_state), start_state))\n",
    "explored = set()\n",
    "\n",
    "counter = 0\n",
    "while not frontier.empty():\n",
    "    _, current_state = frontier.get()\n",
    "    counter += 1\n",
    "\n",
    "    if goal_check(current_state):\n",
    "        break\n",
    "\n",
    "    explored.add((tuple(current_state.taken), tuple(current_state.not_taken)))\n",
    "\n",
    "    for action in current_state.not_taken:\n",
    "        new_taken = current_state.taken | {action}\n",
    "        new_not_taken = current_state.not_taken - {action}\n",
    "        new_state = State(new_taken, new_not_taken)\n",
    "\n",
    "        if (tuple(new_state.taken), tuple(new_state.not_taken)) not in explored:\n",
    "            frontier.put((heuristic2(new_state), new_state))\n",
    "\n",
    "print( \"Solved in {} steps ({} sets chosen)\".format(counter,len(current_state.taken)))\n",
    "print(\"The sets taken where : \", current_state.taken)\n",
    "goal_check(current_state)"
   ]
  }
 ],
 "metadata": {
  "kernelspec": {
   "display_name": ".venv",
   "language": "python",
   "name": "python3"
  },
  "language_info": {
   "codemirror_mode": {
    "name": "ipython",
    "version": 3
   },
   "file_extension": ".py",
   "mimetype": "text/x-python",
   "name": "python",
   "nbconvert_exporter": "python",
   "pygments_lexer": "ipython3",
   "version": "3.11.5"
  },
  "orig_nbformat": 4
 },
 "nbformat": 4,
 "nbformat_minor": 2
}
