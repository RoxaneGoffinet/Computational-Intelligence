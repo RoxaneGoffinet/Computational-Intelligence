{
 "cells": [
  {
   "cell_type": "markdown",
   "metadata": {},
   "source": [
    "Copyright **`(c)`** 2023 Giovanni Squillero `<giovanni.squillero@polito.it>`  \n",
    "[`https://github.com/squillero/computational-intelligence`](https://github.com/squillero/computational-intelligence)  \n",
    "Free for personal or classroom use; see [`LICENSE.md`](https://github.com/squillero/computational-intelligence/blob/master/LICENSE.md) for details.  "
   ]
  },
  {
   "cell_type": "markdown",
   "metadata": {},
   "source": [
    "# LAB10\n",
    "\n",
    "Use reinforcement learning to devise a tic-tac-toe player.\n",
    "\n",
    "### Deadlines:\n",
    "\n",
    "- Submission: Sunday, December 25 ([CET](https://www.timeanddate.com/time/zones/cet))\n",
    "- Reviews: Dies Natalis Solis Invicti ([CET](https://en.wikipedia.org/wiki/Sol_Invictus))\n",
    "\n",
    "Notes:\n",
    "\n",
    "- Reviews will be assigned on Monday, December 4\n",
    "- You need to commit in order to be selected as a reviewer (ie. better to commit an empty work than not to commit)"
   ]
  },
  {
   "cell_type": "code",
   "execution_count": 1,
   "metadata": {},
   "outputs": [],
   "source": [
    "# Libraries\n",
    "import numpy as np\n",
    "from RL import *\n",
    "from game_functions import *"
   ]
  },
  {
   "cell_type": "code",
   "execution_count": 2,
   "metadata": {},
   "outputs": [],
   "source": [
    "# Tunable parameters\n",
    "epsilons= np.arange(0.1, 0.9, 0.1)\n",
    "alphas= np.arange(0.1, 0.9, 0.1)\n",
    "ds = np.arange(0.1, 0.9, 0.1)   "
   ]
  },
  {
   "cell_type": "code",
   "execution_count": 3,
   "metadata": {},
   "outputs": [
    {
     "name": "stdout",
     "output_type": "stream",
     "text": [
      "Best epsilon: 0.1\n",
      "Best alpha: 0.6\n",
      "Best discount Factor: 0.8\n"
     ]
    }
   ],
   "source": [
    "best_agent = optimization(epsilons, alphas, ds, player, NB_TRAIN) # find the best agent, can be quite long to run depending on the number of episodes...\n",
    "\n",
    "# Print the best agent's parameters\n",
    "print(f\"Best epsilon: {best_agent.epsilon}\")\n",
    "print(f\"Best alpha: {best_agent.alpha}\")\n",
    "print(f\"Best discount Factor: {best_agent.d}\")"
   ]
  },
  {
   "cell_type": "code",
   "execution_count": 5,
   "metadata": {},
   "outputs": [
    {
     "name": "stdout",
     "output_type": "stream",
     "text": [
      "The agent wins 91.10000000000001 % of time: \n",
      "Percentage wins of the random player: 5.1%\n",
      "Percentage of draws: 3.8%\n",
      "Percentage wins of the agent with respect to the random player: 94.6985446985447%\n"
     ]
    }
   ],
   "source": [
    "win_agent=0\n",
    "win_random=0\n",
    "no_win=0\n",
    "\n",
    "win_agent, win_random, no_win = count_win(best_agent, player, fitness)\n",
    "stats(win_agent, win_random, no_win)"
   ]
  }
 ],
 "metadata": {
  "kernelspec": {
   "display_name": "ci-P-7LqQ3C-py3.11",
   "language": "python",
   "name": "python3"
  },
  "language_info": {
   "codemirror_mode": {
    "name": "ipython",
    "version": 3
   },
   "file_extension": ".py",
   "mimetype": "text/x-python",
   "name": "python",
   "nbconvert_exporter": "python",
   "pygments_lexer": "ipython3",
   "version": "3.11.5"
  }
 },
 "nbformat": 4,
 "nbformat_minor": 2
}
